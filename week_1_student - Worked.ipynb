{
 "cells": [
  {
   "cell_type": "code",
   "execution_count": 17,
   "metadata": {},
   "outputs": [],
   "source": [
    "import pandas as pd\n",
    "import matplotlib"
   ]
  },
  {
   "cell_type": "markdown",
   "metadata": {},
   "source": [
    "# Import our data! "
   ]
  },
  {
   "cell_type": "markdown",
   "metadata": {},
   "source": [
    "link to our data \n",
    "[kaggle](https://www.kaggle.com/datasets/kemical/kickstarter-projects?select=ks-projects-201801.csv)"
   ]
  },
  {
   "cell_type": "markdown",
   "metadata": {},
   "source": [
    "##### **Your Task**\n",
    "- Load the dataset into a variable called kick_starter.\n",
    "- Think about why you’re naming the variable this way. Could someone else easily understand the purpose of this variable just by reading its name?\n",
    "- hint: pandas read csv"
   ]
  },
  {
   "cell_type": "code",
   "execution_count": 18,
   "metadata": {},
   "outputs": [],
   "source": [
    "# your code here\n",
    "kick_starter = pd.read_csv('ks-projects-201801.csv')\n"
   ]
  },
  {
   "cell_type": "markdown",
   "metadata": {},
   "source": [
    "#### **Why This Is Important**\n",
    "**Good Variable Names:**\n",
    "\n",
    "- The variable name kick_starter is clear and descriptive. It tells us exactly what the data represents—Kickstarter projects.\n",
    "- Choosing meaningful names for variables makes your code easier to read and understand, both for you and others who might use or review your work later. Avoid generic names like df or data when you can be more specific.\n",
    "\n",
    "**Consistency:**\n",
    "\n",
    "- Maintaining good naming practices throughout your code reduces the chances of confusion or errors. Imagine working with multiple datasets; clear names will help you keep everything organized."
   ]
  },
  {
   "cell_type": "markdown",
   "metadata": {},
   "source": [
    "## Print the dataframe"
   ]
  },
  {
   "cell_type": "code",
   "execution_count": 19,
   "metadata": {},
   "outputs": [
    {
     "name": "stdout",
     "output_type": "stream",
     "text": [
      "                ID                                               name  \\\n",
      "0       1000002330                    The Songs of Adelaide & Abullah   \n",
      "1       1000003930      Greeting From Earth: ZGAC Arts Capsule For ET   \n",
      "2       1000004038                                     Where is Hank?   \n",
      "3       1000007540  ToshiCapital Rekordz Needs Help to Complete Album   \n",
      "4       1000011046  Community Film Project: The Art of Neighborhoo...   \n",
      "...            ...                                                ...   \n",
      "378656   999976400  ChknTruk Nationwide Charity Drive 2014 (Canceled)   \n",
      "378657   999977640                                          The Tribe   \n",
      "378658   999986353  Walls of Remedy- New lesbian Romantic Comedy f...   \n",
      "378659   999987933                           BioDefense Education Kit   \n",
      "378660   999988282                  Nou Renmen Ayiti!  We Love Haiti!   \n",
      "\n",
      "               category main_category currency    deadline     goal  \\\n",
      "0                Poetry    Publishing      GBP  2015-10-09   1000.0   \n",
      "1        Narrative Film  Film & Video      USD  2017-11-01  30000.0   \n",
      "2        Narrative Film  Film & Video      USD  2013-02-26  45000.0   \n",
      "3                 Music         Music      USD  2012-04-16   5000.0   \n",
      "4          Film & Video  Film & Video      USD  2015-08-29  19500.0   \n",
      "...                 ...           ...      ...         ...      ...   \n",
      "378656      Documentary  Film & Video      USD  2014-10-17  50000.0   \n",
      "378657   Narrative Film  Film & Video      USD  2011-07-19   1500.0   \n",
      "378658   Narrative Film  Film & Video      USD  2010-08-16  15000.0   \n",
      "378659       Technology    Technology      USD  2016-02-13  15000.0   \n",
      "378660  Performance Art           Art      USD  2011-08-16   2000.0   \n",
      "\n",
      "                   launched  pledged     state  backers country  usd pledged  \\\n",
      "0       2015-08-11 12:12:28      0.0    failed        0      GB          0.0   \n",
      "1       2017-09-02 04:43:57   2421.0    failed       15      US        100.0   \n",
      "2       2013-01-12 00:20:50    220.0    failed        3      US        220.0   \n",
      "3       2012-03-17 03:24:11      1.0    failed        1      US          1.0   \n",
      "4       2015-07-04 08:35:03   1283.0  canceled       14      US       1283.0   \n",
      "...                     ...      ...       ...      ...     ...          ...   \n",
      "378656  2014-09-17 02:35:30     25.0  canceled        1      US         25.0   \n",
      "378657  2011-06-22 03:35:14    155.0    failed        5      US        155.0   \n",
      "378658  2010-07-01 19:40:30     20.0    failed        1      US         20.0   \n",
      "378659  2016-01-13 18:13:53    200.0    failed        6      US        200.0   \n",
      "378660  2011-07-19 09:07:47    524.0    failed       17      US        524.0   \n",
      "\n",
      "        usd_pledged_real  usd_goal_real  \n",
      "0                    0.0        1533.95  \n",
      "1                 2421.0       30000.00  \n",
      "2                  220.0       45000.00  \n",
      "3                    1.0        5000.00  \n",
      "4                 1283.0       19500.00  \n",
      "...                  ...            ...  \n",
      "378656              25.0       50000.00  \n",
      "378657             155.0        1500.00  \n",
      "378658              20.0       15000.00  \n",
      "378659             200.0       15000.00  \n",
      "378660             524.0        2000.00  \n",
      "\n",
      "[378661 rows x 15 columns]\n"
     ]
    }
   ],
   "source": [
    "# your code here\n",
    "print(pd.read_csv('ks-projects-201801.csv'))"
   ]
  },
  {
   "cell_type": "markdown",
   "metadata": {},
   "source": [
    "Print the dataframe just using just the variable name. "
   ]
  },
  {
   "cell_type": "code",
   "execution_count": 20,
   "metadata": {},
   "outputs": [
    {
     "name": "stdout",
     "output_type": "stream",
     "text": [
      "                ID                                               name  \\\n",
      "0       1000002330                    The Songs of Adelaide & Abullah   \n",
      "1       1000003930      Greeting From Earth: ZGAC Arts Capsule For ET   \n",
      "2       1000004038                                     Where is Hank?   \n",
      "3       1000007540  ToshiCapital Rekordz Needs Help to Complete Album   \n",
      "4       1000011046  Community Film Project: The Art of Neighborhoo...   \n",
      "...            ...                                                ...   \n",
      "378656   999976400  ChknTruk Nationwide Charity Drive 2014 (Canceled)   \n",
      "378657   999977640                                          The Tribe   \n",
      "378658   999986353  Walls of Remedy- New lesbian Romantic Comedy f...   \n",
      "378659   999987933                           BioDefense Education Kit   \n",
      "378660   999988282                  Nou Renmen Ayiti!  We Love Haiti!   \n",
      "\n",
      "               category main_category currency    deadline     goal  \\\n",
      "0                Poetry    Publishing      GBP  2015-10-09   1000.0   \n",
      "1        Narrative Film  Film & Video      USD  2017-11-01  30000.0   \n",
      "2        Narrative Film  Film & Video      USD  2013-02-26  45000.0   \n",
      "3                 Music         Music      USD  2012-04-16   5000.0   \n",
      "4          Film & Video  Film & Video      USD  2015-08-29  19500.0   \n",
      "...                 ...           ...      ...         ...      ...   \n",
      "378656      Documentary  Film & Video      USD  2014-10-17  50000.0   \n",
      "378657   Narrative Film  Film & Video      USD  2011-07-19   1500.0   \n",
      "378658   Narrative Film  Film & Video      USD  2010-08-16  15000.0   \n",
      "378659       Technology    Technology      USD  2016-02-13  15000.0   \n",
      "378660  Performance Art           Art      USD  2011-08-16   2000.0   \n",
      "\n",
      "                   launched  pledged     state  backers country  usd pledged  \\\n",
      "0       2015-08-11 12:12:28      0.0    failed        0      GB          0.0   \n",
      "1       2017-09-02 04:43:57   2421.0    failed       15      US        100.0   \n",
      "2       2013-01-12 00:20:50    220.0    failed        3      US        220.0   \n",
      "3       2012-03-17 03:24:11      1.0    failed        1      US          1.0   \n",
      "4       2015-07-04 08:35:03   1283.0  canceled       14      US       1283.0   \n",
      "...                     ...      ...       ...      ...     ...          ...   \n",
      "378656  2014-09-17 02:35:30     25.0  canceled        1      US         25.0   \n",
      "378657  2011-06-22 03:35:14    155.0    failed        5      US        155.0   \n",
      "378658  2010-07-01 19:40:30     20.0    failed        1      US         20.0   \n",
      "378659  2016-01-13 18:13:53    200.0    failed        6      US        200.0   \n",
      "378660  2011-07-19 09:07:47    524.0    failed       17      US        524.0   \n",
      "\n",
      "        usd_pledged_real  usd_goal_real  \n",
      "0                    0.0        1533.95  \n",
      "1                 2421.0       30000.00  \n",
      "2                  220.0       45000.00  \n",
      "3                    1.0        5000.00  \n",
      "4                 1283.0       19500.00  \n",
      "...                  ...            ...  \n",
      "378656              25.0       50000.00  \n",
      "378657             155.0        1500.00  \n",
      "378658              20.0       15000.00  \n",
      "378659             200.0       15000.00  \n",
      "378660             524.0        2000.00  \n",
      "\n",
      "[378661 rows x 15 columns]\n"
     ]
    }
   ],
   "source": [
    "# your code here\n",
    "print(kick_starter)"
   ]
  },
  {
   "cell_type": "markdown",
   "metadata": {},
   "source": [
    "#### **When to Use Each**\n",
    "Use print(kick_starter):\n",
    "\n",
    "- When running scripts outside of Jupyter notebooks.\n",
    "- When debugging or wanting to ensure specific text output.\n",
    "\n",
    "Use kick_starter (in Jupyter Notebooks):\n",
    "\n",
    "- To display data in an interactive, well-formatted way.\n",
    "- To view a quick overview of the DataFrame structure without overwhelming the output."
   ]
  },
  {
   "cell_type": "markdown",
   "metadata": {},
   "source": [
    "#### Instructions: Exploring the First and Last Rows of Your Data\n",
    "Now that your dataset is loaded into `kick_starter`, it's time to explore the structure of the data. A great way to start is by looking at the first few rows and the last few rows of the DataFrame."
   ]
  },
  {
   "cell_type": "markdown",
   "metadata": {},
   "source": [
    "What to Do:\n",
    "- Write a line of code to display the first rows of the DataFrame.\n",
    "- By default, this method shows the first 5 rows, but you can also specify a number as a parameter to see more (e.g., the first 10 rows). Experiment with different numbers!\n",
    "- *hint* we are looking at the `head` of the dataframe "
   ]
  },
  {
   "cell_type": "code",
   "execution_count": null,
   "metadata": {},
   "outputs": [
    {
     "data": {
      "text/html": [
       "<div>\n",
       "<style scoped>\n",
       "    .dataframe tbody tr th:only-of-type {\n",
       "        vertical-align: middle;\n",
       "    }\n",
       "\n",
       "    .dataframe tbody tr th {\n",
       "        vertical-align: top;\n",
       "    }\n",
       "\n",
       "    .dataframe thead th {\n",
       "        text-align: right;\n",
       "    }\n",
       "</style>\n",
       "<table border=\"1\" class=\"dataframe\">\n",
       "  <thead>\n",
       "    <tr style=\"text-align: right;\">\n",
       "      <th></th>\n",
       "      <th>ID</th>\n",
       "      <th>name</th>\n",
       "      <th>category</th>\n",
       "      <th>main_category</th>\n",
       "      <th>currency</th>\n",
       "      <th>deadline</th>\n",
       "      <th>goal</th>\n",
       "      <th>launched</th>\n",
       "      <th>pledged</th>\n",
       "      <th>state</th>\n",
       "      <th>backers</th>\n",
       "      <th>country</th>\n",
       "      <th>usd pledged</th>\n",
       "      <th>usd_pledged_real</th>\n",
       "      <th>usd_goal_real</th>\n",
       "    </tr>\n",
       "  </thead>\n",
       "  <tbody>\n",
       "    <tr>\n",
       "      <th>0</th>\n",
       "      <td>1000002330</td>\n",
       "      <td>The Songs of Adelaide &amp; Abullah</td>\n",
       "      <td>Poetry</td>\n",
       "      <td>Publishing</td>\n",
       "      <td>GBP</td>\n",
       "      <td>2015-10-09</td>\n",
       "      <td>1000.0</td>\n",
       "      <td>2015-08-11 12:12:28</td>\n",
       "      <td>0.0</td>\n",
       "      <td>failed</td>\n",
       "      <td>0</td>\n",
       "      <td>GB</td>\n",
       "      <td>0.0</td>\n",
       "      <td>0.0</td>\n",
       "      <td>1533.95</td>\n",
       "    </tr>\n",
       "    <tr>\n",
       "      <th>1</th>\n",
       "      <td>1000003930</td>\n",
       "      <td>Greeting From Earth: ZGAC Arts Capsule For ET</td>\n",
       "      <td>Narrative Film</td>\n",
       "      <td>Film &amp; Video</td>\n",
       "      <td>USD</td>\n",
       "      <td>2017-11-01</td>\n",
       "      <td>30000.0</td>\n",
       "      <td>2017-09-02 04:43:57</td>\n",
       "      <td>2421.0</td>\n",
       "      <td>failed</td>\n",
       "      <td>15</td>\n",
       "      <td>US</td>\n",
       "      <td>100.0</td>\n",
       "      <td>2421.0</td>\n",
       "      <td>30000.00</td>\n",
       "    </tr>\n",
       "    <tr>\n",
       "      <th>2</th>\n",
       "      <td>1000004038</td>\n",
       "      <td>Where is Hank?</td>\n",
       "      <td>Narrative Film</td>\n",
       "      <td>Film &amp; Video</td>\n",
       "      <td>USD</td>\n",
       "      <td>2013-02-26</td>\n",
       "      <td>45000.0</td>\n",
       "      <td>2013-01-12 00:20:50</td>\n",
       "      <td>220.0</td>\n",
       "      <td>failed</td>\n",
       "      <td>3</td>\n",
       "      <td>US</td>\n",
       "      <td>220.0</td>\n",
       "      <td>220.0</td>\n",
       "      <td>45000.00</td>\n",
       "    </tr>\n",
       "    <tr>\n",
       "      <th>3</th>\n",
       "      <td>1000007540</td>\n",
       "      <td>ToshiCapital Rekordz Needs Help to Complete Album</td>\n",
       "      <td>Music</td>\n",
       "      <td>Music</td>\n",
       "      <td>USD</td>\n",
       "      <td>2012-04-16</td>\n",
       "      <td>5000.0</td>\n",
       "      <td>2012-03-17 03:24:11</td>\n",
       "      <td>1.0</td>\n",
       "      <td>failed</td>\n",
       "      <td>1</td>\n",
       "      <td>US</td>\n",
       "      <td>1.0</td>\n",
       "      <td>1.0</td>\n",
       "      <td>5000.00</td>\n",
       "    </tr>\n",
       "    <tr>\n",
       "      <th>4</th>\n",
       "      <td>1000011046</td>\n",
       "      <td>Community Film Project: The Art of Neighborhoo...</td>\n",
       "      <td>Film &amp; Video</td>\n",
       "      <td>Film &amp; Video</td>\n",
       "      <td>USD</td>\n",
       "      <td>2015-08-29</td>\n",
       "      <td>19500.0</td>\n",
       "      <td>2015-07-04 08:35:03</td>\n",
       "      <td>1283.0</td>\n",
       "      <td>canceled</td>\n",
       "      <td>14</td>\n",
       "      <td>US</td>\n",
       "      <td>1283.0</td>\n",
       "      <td>1283.0</td>\n",
       "      <td>19500.00</td>\n",
       "    </tr>\n",
       "  </tbody>\n",
       "</table>\n",
       "</div>"
      ],
      "text/plain": [
       "           ID                                               name  \\\n",
       "0  1000002330                    The Songs of Adelaide & Abullah   \n",
       "1  1000003930      Greeting From Earth: ZGAC Arts Capsule For ET   \n",
       "2  1000004038                                     Where is Hank?   \n",
       "3  1000007540  ToshiCapital Rekordz Needs Help to Complete Album   \n",
       "4  1000011046  Community Film Project: The Art of Neighborhoo...   \n",
       "\n",
       "         category main_category currency    deadline     goal  \\\n",
       "0          Poetry    Publishing      GBP  2015-10-09   1000.0   \n",
       "1  Narrative Film  Film & Video      USD  2017-11-01  30000.0   \n",
       "2  Narrative Film  Film & Video      USD  2013-02-26  45000.0   \n",
       "3           Music         Music      USD  2012-04-16   5000.0   \n",
       "4    Film & Video  Film & Video      USD  2015-08-29  19500.0   \n",
       "\n",
       "              launched  pledged     state  backers country  usd pledged  \\\n",
       "0  2015-08-11 12:12:28      0.0    failed        0      GB          0.0   \n",
       "1  2017-09-02 04:43:57   2421.0    failed       15      US        100.0   \n",
       "2  2013-01-12 00:20:50    220.0    failed        3      US        220.0   \n",
       "3  2012-03-17 03:24:11      1.0    failed        1      US          1.0   \n",
       "4  2015-07-04 08:35:03   1283.0  canceled       14      US       1283.0   \n",
       "\n",
       "   usd_pledged_real  usd_goal_real  \n",
       "0               0.0        1533.95  \n",
       "1            2421.0       30000.00  \n",
       "2             220.0       45000.00  \n",
       "3               1.0        5000.00  \n",
       "4            1283.0       19500.00  "
      ]
     },
     "execution_count": 26,
     "metadata": {},
     "output_type": "execute_result"
    }
   ],
   "source": [
    "# your code here\n",
    "kick_starter.head()"
   ]
  },
  {
   "cell_type": "markdown",
   "metadata": {},
   "source": [
    "Write another line of code to display the last rows of the DataFrame.\n",
    "- Similarly, try adding a parameter to see more rows from the end of the DataFrame.\n",
    "- Experiment with different numbers here too! "
   ]
  },
  {
   "cell_type": "code",
   "execution_count": 27,
   "metadata": {},
   "outputs": [
    {
     "data": {
      "text/html": [
       "<div>\n",
       "<style scoped>\n",
       "    .dataframe tbody tr th:only-of-type {\n",
       "        vertical-align: middle;\n",
       "    }\n",
       "\n",
       "    .dataframe tbody tr th {\n",
       "        vertical-align: top;\n",
       "    }\n",
       "\n",
       "    .dataframe thead th {\n",
       "        text-align: right;\n",
       "    }\n",
       "</style>\n",
       "<table border=\"1\" class=\"dataframe\">\n",
       "  <thead>\n",
       "    <tr style=\"text-align: right;\">\n",
       "      <th></th>\n",
       "      <th>ID</th>\n",
       "      <th>name</th>\n",
       "      <th>category</th>\n",
       "      <th>main_category</th>\n",
       "      <th>currency</th>\n",
       "      <th>deadline</th>\n",
       "      <th>goal</th>\n",
       "      <th>launched</th>\n",
       "      <th>pledged</th>\n",
       "      <th>state</th>\n",
       "      <th>backers</th>\n",
       "      <th>country</th>\n",
       "      <th>usd pledged</th>\n",
       "      <th>usd_pledged_real</th>\n",
       "      <th>usd_goal_real</th>\n",
       "    </tr>\n",
       "  </thead>\n",
       "  <tbody>\n",
       "    <tr>\n",
       "      <th>378656</th>\n",
       "      <td>999976400</td>\n",
       "      <td>ChknTruk Nationwide Charity Drive 2014 (Canceled)</td>\n",
       "      <td>Documentary</td>\n",
       "      <td>Film &amp; Video</td>\n",
       "      <td>USD</td>\n",
       "      <td>2014-10-17</td>\n",
       "      <td>50000.0</td>\n",
       "      <td>2014-09-17 02:35:30</td>\n",
       "      <td>25.0</td>\n",
       "      <td>canceled</td>\n",
       "      <td>1</td>\n",
       "      <td>US</td>\n",
       "      <td>25.0</td>\n",
       "      <td>25.0</td>\n",
       "      <td>50000.0</td>\n",
       "    </tr>\n",
       "    <tr>\n",
       "      <th>378657</th>\n",
       "      <td>999977640</td>\n",
       "      <td>The Tribe</td>\n",
       "      <td>Narrative Film</td>\n",
       "      <td>Film &amp; Video</td>\n",
       "      <td>USD</td>\n",
       "      <td>2011-07-19</td>\n",
       "      <td>1500.0</td>\n",
       "      <td>2011-06-22 03:35:14</td>\n",
       "      <td>155.0</td>\n",
       "      <td>failed</td>\n",
       "      <td>5</td>\n",
       "      <td>US</td>\n",
       "      <td>155.0</td>\n",
       "      <td>155.0</td>\n",
       "      <td>1500.0</td>\n",
       "    </tr>\n",
       "    <tr>\n",
       "      <th>378658</th>\n",
       "      <td>999986353</td>\n",
       "      <td>Walls of Remedy- New lesbian Romantic Comedy f...</td>\n",
       "      <td>Narrative Film</td>\n",
       "      <td>Film &amp; Video</td>\n",
       "      <td>USD</td>\n",
       "      <td>2010-08-16</td>\n",
       "      <td>15000.0</td>\n",
       "      <td>2010-07-01 19:40:30</td>\n",
       "      <td>20.0</td>\n",
       "      <td>failed</td>\n",
       "      <td>1</td>\n",
       "      <td>US</td>\n",
       "      <td>20.0</td>\n",
       "      <td>20.0</td>\n",
       "      <td>15000.0</td>\n",
       "    </tr>\n",
       "    <tr>\n",
       "      <th>378659</th>\n",
       "      <td>999987933</td>\n",
       "      <td>BioDefense Education Kit</td>\n",
       "      <td>Technology</td>\n",
       "      <td>Technology</td>\n",
       "      <td>USD</td>\n",
       "      <td>2016-02-13</td>\n",
       "      <td>15000.0</td>\n",
       "      <td>2016-01-13 18:13:53</td>\n",
       "      <td>200.0</td>\n",
       "      <td>failed</td>\n",
       "      <td>6</td>\n",
       "      <td>US</td>\n",
       "      <td>200.0</td>\n",
       "      <td>200.0</td>\n",
       "      <td>15000.0</td>\n",
       "    </tr>\n",
       "    <tr>\n",
       "      <th>378660</th>\n",
       "      <td>999988282</td>\n",
       "      <td>Nou Renmen Ayiti!  We Love Haiti!</td>\n",
       "      <td>Performance Art</td>\n",
       "      <td>Art</td>\n",
       "      <td>USD</td>\n",
       "      <td>2011-08-16</td>\n",
       "      <td>2000.0</td>\n",
       "      <td>2011-07-19 09:07:47</td>\n",
       "      <td>524.0</td>\n",
       "      <td>failed</td>\n",
       "      <td>17</td>\n",
       "      <td>US</td>\n",
       "      <td>524.0</td>\n",
       "      <td>524.0</td>\n",
       "      <td>2000.0</td>\n",
       "    </tr>\n",
       "  </tbody>\n",
       "</table>\n",
       "</div>"
      ],
      "text/plain": [
       "               ID                                               name  \\\n",
       "378656  999976400  ChknTruk Nationwide Charity Drive 2014 (Canceled)   \n",
       "378657  999977640                                          The Tribe   \n",
       "378658  999986353  Walls of Remedy- New lesbian Romantic Comedy f...   \n",
       "378659  999987933                           BioDefense Education Kit   \n",
       "378660  999988282                  Nou Renmen Ayiti!  We Love Haiti!   \n",
       "\n",
       "               category main_category currency    deadline     goal  \\\n",
       "378656      Documentary  Film & Video      USD  2014-10-17  50000.0   \n",
       "378657   Narrative Film  Film & Video      USD  2011-07-19   1500.0   \n",
       "378658   Narrative Film  Film & Video      USD  2010-08-16  15000.0   \n",
       "378659       Technology    Technology      USD  2016-02-13  15000.0   \n",
       "378660  Performance Art           Art      USD  2011-08-16   2000.0   \n",
       "\n",
       "                   launched  pledged     state  backers country  usd pledged  \\\n",
       "378656  2014-09-17 02:35:30     25.0  canceled        1      US         25.0   \n",
       "378657  2011-06-22 03:35:14    155.0    failed        5      US        155.0   \n",
       "378658  2010-07-01 19:40:30     20.0    failed        1      US         20.0   \n",
       "378659  2016-01-13 18:13:53    200.0    failed        6      US        200.0   \n",
       "378660  2011-07-19 09:07:47    524.0    failed       17      US        524.0   \n",
       "\n",
       "        usd_pledged_real  usd_goal_real  \n",
       "378656              25.0        50000.0  \n",
       "378657             155.0         1500.0  \n",
       "378658              20.0        15000.0  \n",
       "378659             200.0        15000.0  \n",
       "378660             524.0         2000.0  "
      ]
     },
     "execution_count": 27,
     "metadata": {},
     "output_type": "execute_result"
    }
   ],
   "source": [
    "# your code here\n",
    "kick_starter.tail()"
   ]
  },
  {
   "cell_type": "markdown",
   "metadata": {},
   "source": [
    "Why Is This Important?\n",
    "- Looking at the first rows helps you understand the structure of the dataset, including the column names and the types of data.\n",
    "- Reviewing the last rows lets you check for anything unusual at the end of the dataset, like incomplete or missing data.\n",
    "- Using parameters gives you flexibility to see as many rows as you need."
   ]
  },
  {
   "cell_type": "markdown",
   "metadata": {},
   "source": [
    "---"
   ]
  },
  {
   "cell_type": "markdown",
   "metadata": {},
   "source": [
    "#### **Instructions: Checking the Dimensions of Your DataFrame**\n",
    "To better understand your dataset, it's important to know how many rows and columns it has. This can be done with a single line of code that gives you the shape of the DataFrame."
   ]
  },
  {
   "cell_type": "markdown",
   "metadata": {},
   "source": [
    "What to Do:\n",
    "Write a line of code that outputs the dimensions of the DataFrame.\n",
    "- The result will tell you how many rows and columns are in the dataset.\n",
    "- Think about why this is useful before starting your analysis."
   ]
  },
  {
   "cell_type": "code",
   "execution_count": 29,
   "metadata": {},
   "outputs": [
    {
     "data": {
      "text/plain": [
       "(378661, 15)"
      ]
     },
     "execution_count": 29,
     "metadata": {},
     "output_type": "execute_result"
    }
   ],
   "source": [
    "# your code here\n",
    "kick_starter.shape"
   ]
  },
  {
   "cell_type": "markdown",
   "metadata": {},
   "source": [
    "Store the result in a variable or use it directly to print out the number of rows and columns in a complete sentence."
   ]
  },
  {
   "cell_type": "code",
   "execution_count": null,
   "metadata": {},
   "outputs": [
    {
     "name": "stdout",
     "output_type": "stream",
     "text": [
      "There are 378661 rows and 15 columns in theis dataframe\n"
     ]
    }
   ],
   "source": [
    "# your code here\n",
    "print('There are', kick_starter.shape[0], 'rows and', kick_starter.shape[1], 'columns in this dataframe')\n"
   ]
  },
  {
   "cell_type": "markdown",
   "metadata": {},
   "source": [
    "Why Is This Important?\n",
    "- Knowing the number of rows helps you understand how much data you're working with.\n",
    "- Knowing the number of columns tells you how many features or variables are in the dataset.\n",
    "- This information is essential when planning how to clean or analyze the data."
   ]
  },
  {
   "cell_type": "markdown",
   "metadata": {},
   "source": [
    "#### **Instructions: Understanding the Structure of Your DataFrame**\n",
    "Before diving into analysis, it's crucial to understand the overall structure of your dataset. There's a method in Pandas that gives you a detailed summary of your DataFrame, including:\n",
    "\n",
    "- Column names\n",
    "- Data types\n",
    "- Non-null value counts"
   ]
  },
  {
   "cell_type": "markdown",
   "metadata": {},
   "source": [
    "What to Do:\n",
    "Write a line of code that provides a summary of the DataFrame.\n",
    "\n",
    "- This will output a detailed report about the columns and their properties.\n",
    "- Pay close attention to which columns have missing values and the types of data stored in each column.\n",
    "\n",
    "Read through the output and note:\n",
    "- How many non-null values are in each column.\n",
    "- Whether the data types (e.g., integers, floats, objects) make sense for the column content.\n",
    "- *hint* we are looking for `info` of the dataframe"
   ]
  },
  {
   "cell_type": "code",
   "execution_count": 32,
   "metadata": {},
   "outputs": [
    {
     "name": "stdout",
     "output_type": "stream",
     "text": [
      "<class 'pandas.core.frame.DataFrame'>\n",
      "RangeIndex: 378661 entries, 0 to 378660\n",
      "Data columns (total 15 columns):\n",
      " #   Column            Non-Null Count   Dtype  \n",
      "---  ------            --------------   -----  \n",
      " 0   ID                378661 non-null  int64  \n",
      " 1   name              378657 non-null  object \n",
      " 2   category          378661 non-null  object \n",
      " 3   main_category     378661 non-null  object \n",
      " 4   currency          378661 non-null  object \n",
      " 5   deadline          378661 non-null  object \n",
      " 6   goal              378661 non-null  float64\n",
      " 7   launched          378661 non-null  object \n",
      " 8   pledged           378661 non-null  float64\n",
      " 9   state             378661 non-null  object \n",
      " 10  backers           378661 non-null  int64  \n",
      " 11  country           378661 non-null  object \n",
      " 12  usd pledged       374864 non-null  float64\n",
      " 13  usd_pledged_real  378661 non-null  float64\n",
      " 14  usd_goal_real     378661 non-null  float64\n",
      "dtypes: float64(5), int64(2), object(8)\n",
      "memory usage: 43.3+ MB\n"
     ]
    }
   ],
   "source": [
    "# your code here\n",
    "kick_starter.info()"
   ]
  },
  {
   "cell_type": "markdown",
   "metadata": {},
   "source": [
    "Why Is This Important?\n",
    "- Helps identify columns with missing data, which need to be addressed before analysis.\n",
    "- Ensures that the data types are correct, especially for numeric or categorical analysis.\n",
    "- Gives a quick overview of the structure and size of the dataset."
   ]
  },
  {
   "cell_type": "markdown",
   "metadata": {},
   "source": [
    "---"
   ]
  },
  {
   "cell_type": "markdown",
   "metadata": {},
   "source": [
    "#### **Instructions: Handling Missing Data**\n",
    "Missing data is a common issue in datasets, and identifying where it exists is an important step in data cleaning. Use the methods below to detect and locate missing values in the kick_starter DataFrame."
   ]
  },
  {
   "cell_type": "markdown",
   "metadata": {},
   "source": [
    "What to Do:\n",
    "Check if there are any missing values in the dataset.\n",
    "\n",
    "- Hint: You can use `.isnull()` to check for missing values. Combine it with `.any()`(x2) to check if any column contains missing values.\n",
    "- Write a line of code that returns `True` if any column has missing data and `False` if none exist.\n",
    "- Goal: This gives you a high-level answer to whether the dataset has missing data or not."
   ]
  },
  {
   "cell_type": "code",
   "execution_count": null,
   "metadata": {},
   "outputs": [
    {
     "data": {
      "text/plain": [
       "ID                  False\n",
       "name                 True\n",
       "category            False\n",
       "main_category       False\n",
       "currency            False\n",
       "deadline            False\n",
       "goal                False\n",
       "launched            False\n",
       "pledged             False\n",
       "state               False\n",
       "backers             False\n",
       "country             False\n",
       "usd pledged          True\n",
       "usd_pledged_real    False\n",
       "usd_goal_real       False\n",
       "dtype: bool"
      ]
     },
     "execution_count": 35,
     "metadata": {},
     "output_type": "execute_result"
    }
   ],
   "source": [
    "# your code here\n",
    "kick_starter.isnull().any()"
   ]
  },
  {
   "cell_type": "markdown",
   "metadata": {},
   "source": [
    "Count the missing values in each column.\n",
    "\n",
    "- Hint: Use `.isnull()` combined with `.sum()` to count the total number of missing values in each column.\n",
    "- Write a line of code that shows the number of missing values per column.\n",
    "- Goal: This helps you pinpoint which columns need cleaning."
   ]
  },
  {
   "cell_type": "code",
   "execution_count": 36,
   "metadata": {},
   "outputs": [
    {
     "data": {
      "text/plain": [
       "ID                     0\n",
       "name                   4\n",
       "category               0\n",
       "main_category          0\n",
       "currency               0\n",
       "deadline               0\n",
       "goal                   0\n",
       "launched               0\n",
       "pledged                0\n",
       "state                  0\n",
       "backers                0\n",
       "country                0\n",
       "usd pledged         3797\n",
       "usd_pledged_real       0\n",
       "usd_goal_real          0\n",
       "dtype: int64"
      ]
     },
     "execution_count": 36,
     "metadata": {},
     "output_type": "execute_result"
    }
   ],
   "source": [
    "# your code here\n",
    "kick_starter.isnull().sum()"
   ]
  },
  {
   "cell_type": "markdown",
   "metadata": {},
   "source": [
    "Locate rows with missing values.\n",
    "\n",
    "Hint: Use `.isnull()` along with `.any(axis=1)` to find all rows that have at least one missing value.\n",
    "Write a line of code to display all rows that contain at least one missing value.\n",
    "Goal: This allows you to see the context of the missing data and decide how to handle it (e.g., remove or impute)."
   ]
  },
  {
   "cell_type": "code",
   "execution_count": 37,
   "metadata": {},
   "outputs": [
    {
     "data": {
      "text/plain": [
       "0         False\n",
       "1         False\n",
       "2         False\n",
       "3         False\n",
       "4         False\n",
       "          ...  \n",
       "378656    False\n",
       "378657    False\n",
       "378658    False\n",
       "378659    False\n",
       "378660    False\n",
       "Length: 378661, dtype: bool"
      ]
     },
     "execution_count": 37,
     "metadata": {},
     "output_type": "execute_result"
    }
   ],
   "source": [
    "# your code here\n",
    "kick_starter.isnull().any(axis=1)"
   ]
  },
  {
   "cell_type": "markdown",
   "metadata": {},
   "source": [
    "Why Is This Important?\n",
    "- Detecting Missing Values: Helps ensure you're aware of gaps in the data before proceeding with your analysis.\n",
    "- Counting Missing Values: Allows you to assess the severity of missing data in each column.\n",
    "- Locating Missing Rows: Gives insight into where the missing data is located, which is crucial for deciding how to handle it."
   ]
  },
  {
   "cell_type": "markdown",
   "metadata": {},
   "source": [
    "---"
   ]
  },
  {
   "cell_type": "markdown",
   "metadata": {},
   "source": [
    "What to Do:\n",
    "\n",
    "Display the column names directly.\n",
    "\n",
    "- Hint: You can use .columns to get a list of all column names. This will show you the names without any extra formatting.\n",
    "- Write a line of code to display the column names in your DataFrame."
   ]
  },
  {
   "cell_type": "code",
   "execution_count": 39,
   "metadata": {},
   "outputs": [
    {
     "data": {
      "text/plain": [
       "Index(['ID', 'name', 'category', 'main_category', 'currency', 'deadline',\n",
       "       'goal', 'launched', 'pledged', 'state', 'backers', 'country',\n",
       "       'usd pledged', 'usd_pledged_real', 'usd_goal_real'],\n",
       "      dtype='object')"
      ]
     },
     "execution_count": 39,
     "metadata": {},
     "output_type": "execute_result"
    }
   ],
   "source": [
    "# your code here\n",
    "kick_starter.columns"
   ]
  },
  {
   "cell_type": "markdown",
   "metadata": {},
   "source": [
    "Convert the column names to a list.\n",
    "\n",
    "- Hint: Use `list()` to convert the column names into a Python list format. This can be useful if you want to manipulate or reference the column names more easily.\n",
    "- Write a line of code to display the column names as a list."
   ]
  },
  {
   "cell_type": "code",
   "execution_count": 40,
   "metadata": {},
   "outputs": [
    {
     "data": {
      "text/plain": [
       "['ID',\n",
       " 'name',\n",
       " 'category',\n",
       " 'main_category',\n",
       " 'currency',\n",
       " 'deadline',\n",
       " 'goal',\n",
       " 'launched',\n",
       " 'pledged',\n",
       " 'state',\n",
       " 'backers',\n",
       " 'country',\n",
       " 'usd pledged',\n",
       " 'usd_pledged_real',\n",
       " 'usd_goal_real']"
      ]
     },
     "execution_count": 40,
     "metadata": {},
     "output_type": "execute_result"
    }
   ],
   "source": [
    "# your code here\n",
    "list(kick_starter.columns)"
   ]
  },
  {
   "cell_type": "markdown",
   "metadata": {},
   "source": [
    "Why Is This Important?\n",
    "- Displaying Column Names: Helps you quickly understand the structure of your dataset and familiarize yourself with the data you're working with.\n",
    "- Converting to List: Useful for referencing or iterating through column names when you need to manipulate them or check for specific columns programmatically."
   ]
  },
  {
   "cell_type": "markdown",
   "metadata": {},
   "source": [
    "---"
   ]
  },
  {
   "cell_type": "markdown",
   "metadata": {},
   "source": [
    "Instructions: Analyzing the Value Counts of a Specific Column\n",
    "- To gain insights into the distribution of data in a specific column, we can use a method that counts how many times each unique value appears in that column. Let's focus on the `state` column in the `kick_starter` DataFrame."
   ]
  },
  {
   "cell_type": "markdown",
   "metadata": {},
   "source": [
    "What to Do:\n",
    "\n",
    "Get the value counts of the state column.\n",
    "\n",
    "- Hint: Use `.value_counts()` on the `state` column to count how many times each unique value appears. This will give you an overview of how many projects are in each state.\n",
    "- Write a line of code to output the counts of each unique value in the state column."
   ]
  },
  {
   "cell_type": "code",
   "execution_count": 46,
   "metadata": {},
   "outputs": [
    {
     "data": {
      "text/plain": [
       "failed        197719\n",
       "successful    133956\n",
       "canceled       38779\n",
       "undefined       3562\n",
       "live            2799\n",
       "suspended       1846\n",
       "Name: state, dtype: int64"
      ]
     },
     "execution_count": 46,
     "metadata": {},
     "output_type": "execute_result"
    }
   ],
   "source": [
    "# your code here\n",
    "kick_starter.state.value_counts()"
   ]
  },
  {
   "cell_type": "markdown",
   "metadata": {},
   "source": [
    "Why Is This Important?\n",
    "\n",
    "- Understanding Data Distribution: This method helps you understand how the data is distributed within a particular column, which can be useful for identifying trends or patterns (e.g., which states have the most successful projects or which project states are most common).\n",
    "- Quick Summary: Provides a quick summary of the unique values and their frequencies, which is helpful for exploratory data analysis."
   ]
  },
  {
   "cell_type": "markdown",
   "metadata": {},
   "source": [
    "#### **Instructions: Getting a Summary of Your Data**\n",
    "To better understand the numerical characteristics of your dataset, you can use a method that provides a statistical summary of the numeric columns. This includes measures like the mean, median, minimum, and maximum values, as well as the spread (standard deviation) of the data."
   ]
  },
  {
   "cell_type": "markdown",
   "metadata": {},
   "source": [
    "What to Do:\n",
    "Generate a summary of the numeric columns.\n",
    "\n",
    "- Hint: Use `.describe()` to generate a summary of the numeric columns in your dataset. This will give you statistics like the mean, standard deviation, and percentiles for each numeric column.\n",
    "- Write a line of code to generate and display this summary."
   ]
  },
  {
   "cell_type": "markdown",
   "metadata": {},
   "source": [
    "toggle on and off this line of code:\n",
    "`pd.set_option('display.float_format', '{:.2f}'.format)`\n",
    "\n",
    "Pros:\n",
    "\n",
    "- This line of code ensures that all floating-point numbers in a DataFrame are displayed with exactly two decimal places, improving readability and presentation.\n",
    "- It can make your output cleaner, especially when dealing with financial or scientific data, where precise formatting is required.\n",
    "\n",
    "Cons:\n",
    "\n",
    "- It affects the global display setting for all float values, which might not be ideal if different columns need different levels of precision.\n",
    "- If the dataset contains very large or very small floating-point numbers, this setting might lead to loss of precision when displaying values, as it rounds to two decimal places.\n",
    "\n",
    "Typically we wont use this but it makes this more readable here. "
   ]
  },
  {
   "cell_type": "code",
   "execution_count": null,
   "metadata": {},
   "outputs": [
    {
     "data": {
      "text/html": [
       "<div>\n",
       "<style scoped>\n",
       "    .dataframe tbody tr th:only-of-type {\n",
       "        vertical-align: middle;\n",
       "    }\n",
       "\n",
       "    .dataframe tbody tr th {\n",
       "        vertical-align: top;\n",
       "    }\n",
       "\n",
       "    .dataframe thead th {\n",
       "        text-align: right;\n",
       "    }\n",
       "</style>\n",
       "<table border=\"1\" class=\"dataframe\">\n",
       "  <thead>\n",
       "    <tr style=\"text-align: right;\">\n",
       "      <th></th>\n",
       "      <th>ID</th>\n",
       "      <th>goal</th>\n",
       "      <th>pledged</th>\n",
       "      <th>backers</th>\n",
       "      <th>usd pledged</th>\n",
       "      <th>usd_pledged_real</th>\n",
       "      <th>usd_goal_real</th>\n",
       "    </tr>\n",
       "  </thead>\n",
       "  <tbody>\n",
       "    <tr>\n",
       "      <th>count</th>\n",
       "      <td>378661.00</td>\n",
       "      <td>378661.00</td>\n",
       "      <td>378661.00</td>\n",
       "      <td>378661.00</td>\n",
       "      <td>374864.00</td>\n",
       "      <td>378661.00</td>\n",
       "      <td>378661.00</td>\n",
       "    </tr>\n",
       "    <tr>\n",
       "      <th>mean</th>\n",
       "      <td>1074731191.99</td>\n",
       "      <td>49080.79</td>\n",
       "      <td>9682.98</td>\n",
       "      <td>105.62</td>\n",
       "      <td>7036.73</td>\n",
       "      <td>9058.92</td>\n",
       "      <td>45454.40</td>\n",
       "    </tr>\n",
       "    <tr>\n",
       "      <th>std</th>\n",
       "      <td>619086204.32</td>\n",
       "      <td>1183391.26</td>\n",
       "      <td>95636.01</td>\n",
       "      <td>907.19</td>\n",
       "      <td>78639.75</td>\n",
       "      <td>90973.34</td>\n",
       "      <td>1152950.06</td>\n",
       "    </tr>\n",
       "    <tr>\n",
       "      <th>min</th>\n",
       "      <td>5971.00</td>\n",
       "      <td>0.01</td>\n",
       "      <td>0.00</td>\n",
       "      <td>0.00</td>\n",
       "      <td>0.00</td>\n",
       "      <td>0.00</td>\n",
       "      <td>0.01</td>\n",
       "    </tr>\n",
       "    <tr>\n",
       "      <th>25%</th>\n",
       "      <td>538263516.00</td>\n",
       "      <td>2000.00</td>\n",
       "      <td>30.00</td>\n",
       "      <td>2.00</td>\n",
       "      <td>16.98</td>\n",
       "      <td>31.00</td>\n",
       "      <td>2000.00</td>\n",
       "    </tr>\n",
       "    <tr>\n",
       "      <th>50%</th>\n",
       "      <td>1075275634.00</td>\n",
       "      <td>5200.00</td>\n",
       "      <td>620.00</td>\n",
       "      <td>12.00</td>\n",
       "      <td>394.72</td>\n",
       "      <td>624.33</td>\n",
       "      <td>5500.00</td>\n",
       "    </tr>\n",
       "    <tr>\n",
       "      <th>75%</th>\n",
       "      <td>1610148624.00</td>\n",
       "      <td>16000.00</td>\n",
       "      <td>4076.00</td>\n",
       "      <td>56.00</td>\n",
       "      <td>3034.09</td>\n",
       "      <td>4050.00</td>\n",
       "      <td>15500.00</td>\n",
       "    </tr>\n",
       "    <tr>\n",
       "      <th>max</th>\n",
       "      <td>2147476221.00</td>\n",
       "      <td>100000000.00</td>\n",
       "      <td>20338986.27</td>\n",
       "      <td>219382.00</td>\n",
       "      <td>20338986.27</td>\n",
       "      <td>20338986.27</td>\n",
       "      <td>166361390.71</td>\n",
       "    </tr>\n",
       "  </tbody>\n",
       "</table>\n",
       "</div>"
      ],
      "text/plain": [
       "                 ID         goal     pledged   backers  usd pledged  \\\n",
       "count     378661.00    378661.00   378661.00 378661.00    374864.00   \n",
       "mean  1074731191.99     49080.79     9682.98    105.62      7036.73   \n",
       "std    619086204.32   1183391.26    95636.01    907.19     78639.75   \n",
       "min         5971.00         0.01        0.00      0.00         0.00   \n",
       "25%    538263516.00      2000.00       30.00      2.00        16.98   \n",
       "50%   1075275634.00      5200.00      620.00     12.00       394.72   \n",
       "75%   1610148624.00     16000.00     4076.00     56.00      3034.09   \n",
       "max   2147476221.00 100000000.00 20338986.27 219382.00  20338986.27   \n",
       "\n",
       "       usd_pledged_real  usd_goal_real  \n",
       "count         378661.00      378661.00  \n",
       "mean            9058.92       45454.40  \n",
       "std            90973.34     1152950.06  \n",
       "min                0.00           0.01  \n",
       "25%               31.00        2000.00  \n",
       "50%              624.33        5500.00  \n",
       "75%             4050.00       15500.00  \n",
       "max         20338986.27   166361390.71  "
      ]
     },
     "execution_count": 48,
     "metadata": {},
     "output_type": "execute_result"
    }
   ],
   "source": [
    "# try it with this line disabled and then enabled\n",
    "# notice the format of the numbers\n",
    "# pd.set_option('display.float_format', '{:.2f}'.format)\n",
    "\n",
    "\n",
    "# code here\n",
    "kick_starter.describe()"
   ]
  },
  {
   "cell_type": "markdown",
   "metadata": {},
   "source": [
    "Why Is This Important?\n",
    "- Understand Data Distribution: This method helps you understand the central tendency and spread of your numeric data, such as the average, minimum, and maximum values.\n",
    "- Identifying Outliers: The summary can help you spot potential outliers, especially by looking at the difference between the 75th percentile and the maximum values.\n",
    "- Quick Summary: Provides a quick and useful overview of the numeric columns in your dataset, which is essential for understanding how each feature behaves."
   ]
  },
  {
   "cell_type": "code",
   "execution_count": 49,
   "metadata": {},
   "outputs": [
    {
     "name": "stderr",
     "output_type": "stream",
     "text": [
      "Matplotlib is building the font cache; this may take a moment.\n"
     ]
    },
    {
     "data": {
      "text/plain": [
       "<AxesSubplot: >"
      ]
     },
     "execution_count": 49,
     "metadata": {},
     "output_type": "execute_result"
    },
    {
     "data": {
      "image/png": "[encoded data removed]",
      "text/plain": [
       "<Figure size 640x480 with 1 Axes>"
      ]
     },
     "metadata": {},
     "output_type": "display_data"
    }
   ],
   "source": [
    "kick_starter['main_category'].value_counts().plot(kind='bar', rot=90)"
   ]
  }
 ],
 "metadata": {
  "kernelspec": {
   "display_name": "Python 3",
   "language": "python",
   "name": "python3"
  },
  "language_info": {
   "codemirror_mode": {
    "name": "ipython",
    "version": 3
   },
   "file_extension": ".py",
   "mimetype": "text/x-python",
   "name": "python",
   "nbconvert_exporter": "python",
   "pygments_lexer": "ipython3",
   "version": "3.11.2"
  }
 },
 "nbformat": 4,
 "nbformat_minor": 2
}
